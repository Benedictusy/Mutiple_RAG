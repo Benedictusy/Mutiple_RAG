{
 "cells": [
  {
   "cell_type": "code",
   "execution_count": 1,
   "id": "5fcee3a9-d99f-4d8d-91fd-0bfa74ee75ba",
   "metadata": {},
   "outputs": [],
   "source": [
    "from mm_rag.vectorstores.multimodal_lancedb import ImageEmbeddingLanceDB\n",
    "from mm_rag.vectorstores.multimodal_lancedb import TextEmbeddingLanceDB\n",
    "from main import gradio_interface"
   ]
  },
  {
   "cell_type": "code",
   "execution_count": 2,
   "id": "0b15e45f-b9fb-431b-9000-35e5493e76d5",
   "metadata": {},
   "outputs": [
    {
     "ename": "NameError",
     "evalue": "name 'gr' is not defined",
     "output_type": "error",
     "traceback": [
      "\u001b[0;31m---------------------------------------------------------------------------\u001b[0m",
      "\u001b[0;31mNameError\u001b[0m                                 Traceback (most recent call last)",
      "Cell \u001b[0;32mIn[2], line 2\u001b[0m\n\u001b[1;32m      1\u001b[0m \u001b[38;5;66;03m# 创建 Gradio 界面\u001b[39;00m\n\u001b[0;32m----> 2\u001b[0m iface \u001b[38;5;241m=\u001b[39m \u001b[43mgr\u001b[49m\u001b[38;5;241m.\u001b[39mInterface(\n\u001b[1;32m      3\u001b[0m     fn\u001b[38;5;241m=\u001b[39mgradio_interface,\n\u001b[1;32m      4\u001b[0m     inputs\u001b[38;5;241m=\u001b[39m[\n\u001b[1;32m      5\u001b[0m         gr\u001b[38;5;241m.\u001b[39mTextbox(label\u001b[38;5;241m=\u001b[39m\u001b[38;5;124m\"\u001b[39m\u001b[38;5;124mQuery\u001b[39m\u001b[38;5;124m\"\u001b[39m, placeholder\u001b[38;5;241m=\u001b[39m\u001b[38;5;124m\"\u001b[39m\u001b[38;5;124m请输入查询语句\u001b[39m\u001b[38;5;124m\"\u001b[39m),\n\u001b[1;32m      6\u001b[0m         gr\u001b[38;5;241m.\u001b[39mTextbox(label\u001b[38;5;241m=\u001b[39m\u001b[38;5;124m\"\u001b[39m\u001b[38;5;124mVideo URL\u001b[39m\u001b[38;5;124m\"\u001b[39m, placeholder\u001b[38;5;241m=\u001b[39m\u001b[38;5;124m\"\u001b[39m\u001b[38;5;124m请输入视频链接\u001b[39m\u001b[38;5;124m\"\u001b[39m),\n\u001b[1;32m      7\u001b[0m         gr\u001b[38;5;241m.\u001b[39mTextbox(label\u001b[38;5;241m=\u001b[39m\u001b[38;5;124m\"\u001b[39m\u001b[38;5;124mVideo Directory\u001b[39m\u001b[38;5;124m\"\u001b[39m, placeholder\u001b[38;5;241m=\u001b[39m\u001b[38;5;124m\"\u001b[39m\u001b[38;5;124m请输入视频存储目录\u001b[39m\u001b[38;5;124m\"\u001b[39m),\n\u001b[1;32m      8\u001b[0m     ],\n\u001b[1;32m      9\u001b[0m     outputs\u001b[38;5;241m=\u001b[39m[\n\u001b[1;32m     10\u001b[0m         gr\u001b[38;5;241m.\u001b[39mImage(label\u001b[38;5;241m=\u001b[39m\u001b[38;5;124m\"\u001b[39m\u001b[38;5;124m最相关的图片\u001b[39m\u001b[38;5;124m\"\u001b[39m),\n\u001b[1;32m     11\u001b[0m         gr\u001b[38;5;241m.\u001b[39mTextbox(label\u001b[38;5;241m=\u001b[39m\u001b[38;5;124m\"\u001b[39m\u001b[38;5;124m最相关的文本片段\u001b[39m\u001b[38;5;124m\"\u001b[39m),\n\u001b[1;32m     12\u001b[0m         gr\u001b[38;5;241m.\u001b[39mTextbox(label\u001b[38;5;241m=\u001b[39m\u001b[38;5;124m\"\u001b[39m\u001b[38;5;124m模型回答\u001b[39m\u001b[38;5;124m\"\u001b[39m),\n\u001b[1;32m     13\u001b[0m     ],\n\u001b[1;32m     14\u001b[0m     title\u001b[38;5;241m=\u001b[39m\u001b[38;5;124m\"\u001b[39m\u001b[38;5;124m视频问答小助手\u001b[39m\u001b[38;5;124m\"\u001b[39m,\n\u001b[1;32m     15\u001b[0m     description\u001b[38;5;241m=\u001b[39m\u001b[38;5;124m\"\u001b[39m\u001b[38;5;124m输入Query、视频链接和视频存储路径，得到最相关图片、文本片段以及模型生成的回答。\u001b[39m\u001b[38;5;124m\"\u001b[39m,\n\u001b[1;32m     16\u001b[0m )\n\u001b[1;32m     18\u001b[0m \u001b[38;5;66;03m# 运行 Gradio 界面\u001b[39;00m\n\u001b[1;32m     19\u001b[0m iface\u001b[38;5;241m.\u001b[39mlaunch(share\u001b[38;5;241m=\u001b[39m\u001b[38;5;28;01mTrue\u001b[39;00m, server_port\u001b[38;5;241m=\u001b[39m\u001b[38;5;241m6006\u001b[39m)\n",
      "\u001b[0;31mNameError\u001b[0m: name 'gr' is not defined"
     ]
    }
   ],
   "source": [
    "# 创建 Gradio 界面\n",
    "iface = gr.Interface(\n",
    "    fn=gradio_interface,\n",
    "    inputs=[\n",
    "        gr.Textbox(label=\"Query\", placeholder=\"请输入查询语句\"),\n",
    "        gr.Textbox(label=\"Video URL\", placeholder=\"请输入视频链接\"),\n",
    "        gr.Textbox(label=\"Video Directory\", placeholder=\"请输入视频存储目录\"),\n",
    "    ],\n",
    "    outputs=[\n",
    "        gr.Image(label=\"最相关的图片\"),\n",
    "        gr.Textbox(label=\"最相关的文本片段\"),\n",
    "        gr.Textbox(label=\"模型回答\"),\n",
    "    ],\n",
    "    title=\"视频问答小助手\",\n",
    "    description=\"输入Query、视频链接和视频存储路径，得到最相关图片、文本片段以及模型生成的回答。\",\n",
    ")\n",
    "\n",
    "# 运行 Gradio 界面\n",
    "iface.launch(share=True, server_port=6006)"
   ]
  },
  {
   "cell_type": "code",
   "execution_count": null,
   "id": "84a81bc7-de3e-4bf1-b592-401eccaea473",
   "metadata": {},
   "outputs": [],
   "source": []
  },
  {
   "cell_type": "code",
   "execution_count": null,
   "id": "cf56624b-d62e-4b8f-8a63-fce80a0a6744",
   "metadata": {},
   "outputs": [],
   "source": []
  }
 ],
 "metadata": {
  "kernelspec": {
   "display_name": "Python 3 (ipykernel)",
   "language": "python",
   "name": "python3"
  },
  "language_info": {
   "codemirror_mode": {
    "name": "ipython",
    "version": 3
   },
   "file_extension": ".py",
   "mimetype": "text/x-python",
   "name": "python",
   "nbconvert_exporter": "python",
   "pygments_lexer": "ipython3",
   "version": "3.10.14"
  }
 },
 "nbformat": 4,
 "nbformat_minor": 5
}
